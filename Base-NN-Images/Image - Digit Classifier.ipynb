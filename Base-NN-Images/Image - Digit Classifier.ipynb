{
 "cells": [
  {
   "cell_type": "markdown",
   "id": "2a80aa76",
   "metadata": {},
   "source": [
    "## Imports"
   ]
  },
  {
   "cell_type": "code",
   "execution_count": null,
   "id": "4ab45941",
   "metadata": {},
   "outputs": [],
   "source": [
    "## Essential imports for building NN using Pytorch framework\n",
    "\n",
    "import torch # core llibrary within pytorch framework\n",
    "import torch.nn as nn # building blocks for neural network\n",
    "import torch.optim as optim # Optimizer for taining (SGD, Adam etc.)\n",
    "from torchvision import datasets # Common datasets like MNIST\n",
    "from torchvision import transforms # For pre-processing images - like converting them to tenors\n",
    "from torch.utils.data import DataLoader # Dataloader - for loading data in batches, shuffle the data for randomness\n",
    "\n",
    "#-----------------------------------------#\n"
   ]
  },
  {
   "cell_type": "code",
   "execution_count": 6,
   "id": "87c8f33c",
   "metadata": {},
   "outputs": [],
   "source": [
    "#!pip install torch torchvision torchaudio\n"
   ]
  },
  {
   "cell_type": "markdown",
   "id": "73df1d46",
   "metadata": {},
   "source": [
    "## Loading Dataset"
   ]
  },
  {
   "cell_type": "code",
   "execution_count": 8,
   "id": "db1e1664",
   "metadata": {},
   "outputs": [],
   "source": [
    "transform = transforms.ToTensor() ## .ToTensor() : used to convert each image to PyTorch tensor\n",
    "\n",
    "## Dataset\n",
    "# Each image is a 28x28 grayscale digit image, and each label is a digit from 0 to 9\n",
    "\n",
    "## Downloads MNIST dataset and convert them to tensors\n",
    "# train=True : Gets the training set (60,000 images)\n",
    "# train=False :  Gets the test set (10,000 images).\n",
    "train_data = datasets.MNIST(root='data', train=True, download=True, transform=transform)\n",
    "test_data = datasets.MNIST(root='data', train=False, download=True, transform=transform)\n",
    "\n",
    "## DataLoader\n",
    "# DataLoader is used for efficient training/testing\n",
    "# batch_size=64: Loads data in groups of 64 images.\n",
    "# shuffle=True: Shuffles training data to improve learning randomness.\n",
    "# shuffle=False: Keeps test data in order for consistent evaluation.\n",
    "\n",
    "train_loader = DataLoader(train_data, batch_size=64, shuffle=True)\n",
    "test_loader = DataLoader(test_data, batch_size=64, shuffle=False)\n"
   ]
  },
  {
   "cell_type": "code",
   "execution_count": 13,
   "id": "aff0710c",
   "metadata": {},
   "outputs": [
    {
     "name": "stdout",
     "output_type": "stream",
     "text": [
      "images.shape ::  torch.Size([64, 1, 28, 28])\n",
      "labels ::  torch.Size([64])\n"
     ]
    }
   ],
   "source": [
    "\n",
    "# iter(train_loader) -> reates a new iterator starting from the beginning of the dataset.\n",
    "# next(...) -> Retrieves the first batch from that iterator. | Does not go to the last element of the DataLoader\n",
    "images, labels = next(iter(train_loader))\n",
    "\n",
    "print(\"images.shape :: \", images.shape)   # Should be [64, 1, 28, 28] --> (64 images, grayscale 1 channel, 28x28 pixels).\n",
    "print(\"labels :: \",labels[:10])    # Prints the first 10 labels --> first 10 labels from a tensor of shape 64\n"
   ]
  },
  {
   "cell_type": "markdown",
   "id": "f76e7632",
   "metadata": {},
   "source": [
    "## Building Simple Neural Network"
   ]
  },
  {
   "cell_type": "code",
   "execution_count": null,
   "id": "c01176fc",
   "metadata": {},
   "outputs": [],
   "source": [
    "## Breakdown\n",
    "# class SimpleNN(nn.Module) --> Custom Neural Network Class ; inherits from nn.Module \n",
    "#    - All pyTorch models MUST inherit from this to work with training utilities"
   ]
  },
  {
   "cell_type": "code",
   "execution_count": 14,
   "id": "7953f3ab",
   "metadata": {},
   "outputs": [],
   "source": [
    "class SimpleNN(nn.Module):\n",
    "    def __init__(self):\n",
    "        super(SimpleNN, self).__init__()\n",
    "        self.fc1 = nn.Linear(28*28, 128)\n",
    "        self.relu = nn.ReLU()\n",
    "        self.fc2 = nn.Linear(128, 10)\n",
    "\n",
    "    def forward(self, x):\n",
    "        x = x.view(-1, 28*28)  # Flatten the image\n",
    "        x = self.relu(self.fc1(x))\n",
    "        x = self.fc2(x)\n",
    "        return x\n",
    "\n",
    "model = SimpleNN()\n"
   ]
  },
  {
   "cell_type": "code",
   "execution_count": null,
   "id": "43eda6a3",
   "metadata": {},
   "outputs": [],
   "source": []
  }
 ],
 "metadata": {
  "kernelspec": {
   "display_name": "Python 3 (ipykernel)",
   "language": "python",
   "name": "python3"
  },
  "language_info": {
   "codemirror_mode": {
    "name": "ipython",
    "version": 3
   },
   "file_extension": ".py",
   "mimetype": "text/x-python",
   "name": "python",
   "nbconvert_exporter": "python",
   "pygments_lexer": "ipython3",
   "version": "3.9.13"
  }
 },
 "nbformat": 4,
 "nbformat_minor": 5
}
